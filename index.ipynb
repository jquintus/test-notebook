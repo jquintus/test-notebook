{
 "cells": [
  {
   "cell_type": "markdown",
   "source": [
    "This notebook is intended to show how you can easily create and manipulate diagrams directly in Python code. It uses the [Diagrams](https://diagrams.mingrammer.com/) Python package."
   ],
   "metadata": {}
  },
  {
   "cell_type": "markdown",
   "source": [
    "## Install the prerequisites\r\n",
    "\r\n",
    "press `shift + enter` to run this section"
   ],
   "metadata": {
    "slideshow": {
     "slide_type": "subslide"
    }
   }
  },
  {
   "cell_type": "code",
   "execution_count": null,
   "source": [
    "import sys\r\n",
    "!conda install --yes --prefix {sys.prefix} diagrams"
   ],
   "outputs": [],
   "metadata": {}
  },
  {
   "cell_type": "code",
   "execution_count": null,
   "source": [
    "# Define our diagram and display it"
   ],
   "outputs": [],
   "metadata": {}
  },
  {
   "cell_type": "code",
   "execution_count": null,
   "source": [
    "from IPython import display\r\n",
    "\r\n",
    "from diagrams import Cluster, Diagram\r\n",
    "from diagrams.aws.compute import ECS, EKS, Lambda\r\n",
    "from diagrams.aws.database import Redshift\r\n",
    "from diagrams.aws.integration import SQS\r\n",
    "from diagrams.aws.storage import S3\r\n",
    "\r\n",
    "with Diagram(\"Event Processing\", show=False):\r\n",
    "    source = EKS(\"k8s source\")\r\n",
    "\r\n",
    "    with Cluster(\"Event Flows\"):\r\n",
    "        with Cluster(\"Event Workers\"):\r\n",
    "            workers = [ECS(\"worker1\"),\r\n",
    "                       ECS(\"worker2\"),\r\n",
    "                       ECS(\"worker3\")]\r\n",
    "\r\n",
    "        queue = SQS(\"event queue\")\r\n",
    "\r\n",
    "        with Cluster(\"Processing\"):\r\n",
    "            handlers = [Lambda(\"proc1\"),\r\n",
    "                        Lambda(\"proc2\"),\r\n",
    "                        Lambda(\"proc3\")]\r\n",
    "\r\n",
    "    store = S3(\"events store\")\r\n",
    "    dw = Redshift(\"analytics\")\r\n",
    "\r\n",
    "    source >> workers >> queue >> handlers\r\n",
    "    handlers >> store\r\n",
    "    handlers >> dw\r\n",
    "\r\n",
    "display.Image(\"./event_processing.png\")"
   ],
   "outputs": [],
   "metadata": {}
  }
 ],
 "metadata": {
  "celltoolbar": "Slideshow",
  "kernelspec": {
   "display_name": "Python 3",
   "language": "python",
   "name": "python3"
  },
  "language_info": {
   "codemirror_mode": {
    "name": "ipython",
    "version": 3
   },
   "file_extension": ".py",
   "mimetype": "text/x-python",
   "name": "python",
   "nbconvert_exporter": "python",
   "pygments_lexer": "ipython3",
   "version": "3.6.2"
  },
  "livereveal": {
   "autolaunch": true,
   "scroll": true
  }
 },
 "nbformat": 4,
 "nbformat_minor": 2
}