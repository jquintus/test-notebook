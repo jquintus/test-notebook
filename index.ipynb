{
 "cells": [
  {
   "cell_type": "markdown",
   "source": [
    "# Hello world\r\n",
    "\r\n",
    "This notebook is intended to show how you can easily create and manipulate diagrams directly in Python code. It uses the [Diagrams](https://diagrams.mingrammer.com/) Python package."
   ],
   "metadata": {}
  }
 ],
 "metadata": {
  "celltoolbar": "Slideshow",
  "kernelspec": {
   "display_name": "Python 3",
   "language": "python",
   "name": "python3"
  },
  "language_info": {
   "codemirror_mode": {
    "name": "ipython",
    "version": 3
   },
   "file_extension": ".py",
   "mimetype": "text/x-python",
   "name": "python",
   "nbconvert_exporter": "python",
   "pygments_lexer": "ipython3",
   "version": "3.6.2"
  },
  "livereveal": {
   "autolaunch": true,
   "scroll": true
  }
 },
 "nbformat": 4,
 "nbformat_minor": 2
}